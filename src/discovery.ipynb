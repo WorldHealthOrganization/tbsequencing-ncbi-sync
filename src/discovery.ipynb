{
 "cells": [
  {
   "cell_type": "code",
   "execution_count": null,
   "metadata": {
    "collapsed": true
   },
   "outputs": [],
   "source": [
    "import json\n",
    "\n",
    "from src.entrez.advanced import EntrezAdvanced, DB\n",
    "from src.common.logs import set_global_debug\n",
    "from Bio import Entrez\n",
    "\n",
    "set_global_debug(True)\n",
    "entrez = EntrezAdvanced(\"afakeemail@gmail.com\", \"afakeapikey\", True)\n",
    "entrez"
   ]
  },
  {
   "cell_type": "code",
   "execution_count": null,
   "metadata": {
    "collapsed": false
   },
   "outputs": [],
   "source": []
  }
 ],
 "metadata": {
  "kernelspec": {
   "display_name": "Python 3 (ipykernel)",
   "language": "python",
   "name": "python3"
  },
  "language_info": {
   "codemirror_mode": {
    "name": "ipython",
    "version": 2
   },
   "file_extension": ".py",
   "mimetype": "text/x-python",
   "name": "python",
   "nbconvert_exporter": "python",
   "pygments_lexer": "ipython2",
   "version": "2.7.6"
  }
 },
 "nbformat": 4,
 "nbformat_minor": 1
}
